{
  "nbformat": 4,
  "nbformat_minor": 0,
  "metadata": {
    "colab": {
      "provenance": []
    },
    "kernelspec": {
      "name": "python3",
      "display_name": "Python 3"
    },
    "language_info": {
      "name": "python"
    }
  },
  "cells": [
    {
      "cell_type": "code",
      "source": [
        "import tensorflow as tf\n",
        "from sklearn.metrics import r2_score"
      ],
      "metadata": {
        "id": "04tKF0UtTLpw"
      },
      "execution_count": 27,
      "outputs": []
    },
    {
      "cell_type": "code",
      "source": [
        "import numpy as np\n",
        "import pandas as pd\n",
        "\n",
        "def evaluate():\n",
        "    # Input the csv file\n",
        "    \"\"\"\n",
        "    Sample evaluation function\n",
        "    Don't modify this function\n",
        "    \"\"\"\n",
        "    df = pd.read_csv('/content/sample_input.csv')\n",
        "\n",
        "    actual_close = np.loadtxt('/content/sample_close.txt')\n",
        "\n",
        "    pred_close = predict_func(df)\n",
        "\n",
        "    # Calculation of squared_error\n",
        "    actual_close = np.array(actual_close)\n",
        "    pred_close = np.array(pred_close)\n",
        "    mean_square_error = np.mean(np.square(actual_close-pred_close))\n",
        "\n",
        "\n",
        "    pred_prev = [df['Close'].iloc[-1]]\n",
        "    pred_prev.append(pred_close[0])\n",
        "    pred_curr = pred_close\n",
        "\n",
        "    actual_prev = [df['Close'].iloc[-1]]\n",
        "    actual_prev.append(actual_close[0])\n",
        "    actual_curr = actual_close\n",
        "\n",
        "    # Calculation of directional_accuracy\n",
        "    pred_dir = np.array(pred_curr)-np.array(pred_prev)\n",
        "    actual_dir = np.array(actual_curr)-np.array(actual_prev)\n",
        "    dir_accuracy = np.mean((pred_dir*actual_dir)>0)*100\n",
        "\n",
        "    print(f'Mean Square Error: {mean_square_error:.6f}\\nDirectional Accuracy: {dir_accuracy:.1f}')\n"
      ],
      "metadata": {
        "id": "bxVSBzPL2qhN"
      },
      "execution_count": 34,
      "outputs": []
    },
    {
      "cell_type": "code",
      "source": [
        "def predict_func(data):\n",
        "    \"\"\"\n",
        "    Modify this function to predict closing prices for next 2 samples.\n",
        "    Take care of null values in the sample_input.csv file which are listed as NAN in the dataframe passed to you\n",
        "    Args:\n",
        "        data (pandas Dataframe): contains the 50 continuous time series values for a stock index\n",
        "\n",
        "    Returns:\n",
        "        list (2 values): your prediction for closing price of next 2 samples\n",
        "    \"\"\"\n",
        "    # load the dataset\n",
        "    df = pd.read_csv('/content/sample_input.csv')\n",
        "    #interpolation to handle the missing values\n",
        "    df = df.interpolate()\n",
        "    # load the model\n",
        "    new_model = tf.keras.models.load_model('/content/model2.h5')\n",
        "    # Features to be predicted\n",
        "    n_features = 1\n",
        "    # Division into subsequences for for proper input\n",
        "    n_seq = 2\n",
        "    # number of timesteps\n",
        "    n_steps = 25\n",
        "\n",
        "    data = np.array(df['Close'])\n",
        "    avd = data\n",
        "\n",
        "    for i in range(2):\n",
        "      x_input = avd[i : 50 + i]\n",
        "      x_input = x_input.reshape((1, n_seq, n_steps, n_features))\n",
        "      yhat = new_model.predict(x_input, verbose=0)\n",
        "      avd = np.append(yhat,avd)\n",
        "    return [avd[50], avd[51]]\n"
      ],
      "metadata": {
        "id": "_jyBQR21-P_U"
      },
      "execution_count": 35,
      "outputs": []
    },
    {
      "cell_type": "code",
      "source": [
        "if __name__== \"__main__\":\n",
        "    evaluate()"
      ],
      "metadata": {
        "colab": {
          "base_uri": "https://localhost:8080/"
        },
        "id": "wPTda9chTtov",
        "outputId": "42c65a4a-ee39-49f2-bbe4-e997d8efa1ac"
      },
      "execution_count": 36,
      "outputs": [
        {
          "output_type": "stream",
          "name": "stdout",
          "text": [
            "Mean Square Error: 529.288336\n",
            "Directional Accuracy: 100.0\n"
          ]
        }
      ]
    },
    {
      "cell_type": "code",
      "source": [],
      "metadata": {
        "id": "ltWwN91mTxEY"
      },
      "execution_count": null,
      "outputs": []
    }
  ]
}