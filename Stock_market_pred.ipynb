{
  "nbformat": 4,
  "nbformat_minor": 0,
  "metadata": {
    "colab": {
      "provenance": []
    },
    "kernelspec": {
      "name": "python3",
      "display_name": "Python 3"
    },
    "language_info": {
      "name": "python"
    }
  },
  "cells": [
    {
      "cell_type": "code",
      "source": [
        "import numpy as np\n",
        "import pandas as pd\n",
        "from sklearn.metrics import r2_score\n",
        "from keras.models import Sequential\n",
        "from keras.layers import LSTM\n",
        "from keras.layers import Dense\n",
        "from keras.layers import Bidirectional"
      ],
      "metadata": {
        "id": "yPPAv3CXyKID"
      },
      "execution_count": 133,
      "outputs": []
    },
    {
      "cell_type": "code",
      "source": [
        "def split_sequence(sequence, n_steps):\n",
        "  X, y = list(), list()\n",
        "  for i in range(len(sequence)):\n",
        "    # find the end of this pattern\n",
        "    end_ix = i + n_steps\n",
        "    # check if we are beyond the sequence\n",
        "    if end_ix > len(sequence)-1:\n",
        "      break\n",
        "    # gather input and output parts of the pattern\n",
        "    seq_x, seq_y = sequence[i:end_ix], sequence[end_ix]\n",
        "    X.append(seq_x)\n",
        "    y.append(seq_y)\n",
        "  return np.array(X), np.array(y)"
      ],
      "metadata": {
        "id": "nmWu3IvtyKSc"
      },
      "execution_count": 134,
      "outputs": []
    },
    {
      "cell_type": "code",
      "source": [
        "import numpy as np\n",
        "import pandas as pd\n",
        "\n",
        "\n",
        "def evaluate():\n",
        "    # Input the csv file\n",
        "    \"\"\"\n",
        "    Sample evaluation function\n",
        "    Don't modify this function\n",
        "    \"\"\"\n",
        "    df = pd.read_csv('/content/sample_input.csv')\n",
        "\n",
        "    actual_close = np.loadtxt('/content/sample_close.txt')\n",
        "\n",
        "    pred_close = predict_func(df)\n",
        "\n",
        "    # Calculation of squared_error\n",
        "    actual_close = np.array(actual_close)\n",
        "    pred_close = np.array(pred_close)\n",
        "    mean_square_error = np.mean(np.square(actual_close-pred_close))\n",
        "\n",
        "\n",
        "    pred_prev = [df['Close'].iloc[-1]]\n",
        "    pred_prev.append(pred_close[0])\n",
        "    pred_curr = pred_close\n",
        "\n",
        "    actual_prev = [df['Close'].iloc[-1]]\n",
        "    actual_prev.append(actual_close[0])\n",
        "    actual_curr = actual_close\n",
        "\n",
        "    # Calculation of directional_accuracy\n",
        "    pred_dir = np.array(pred_curr)-np.array(pred_prev)\n",
        "    actual_dir = np.array(actual_curr)-np.array(actual_prev)\n",
        "    dir_accuracy = np.mean((pred_dir*actual_dir)>0)*100\n",
        "\n",
        "    print(f'Mean Square Error: {mean_square_error:.6f}\\nDirectional Accuracy: {dir_accuracy:.1f}')\n",
        "\n",
        "\n",
        "def predict_func(data):\n",
        "    \"\"\"\n",
        "    Modify this function to predict closing prices for next 2 samples.\n",
        "    Take care of null values in the sample_input.csv file which are listed as NAN in the dataframe passed to you\n",
        "    Args:\n",
        "        data (pandas Dataframe): contains the 50 continuous time series values for a stock index\n",
        "\n",
        "    Returns:\n",
        "        list (2 values): your prediction for closing price of next 2 samples\n",
        "    \"\"\"\n",
        "    data = data.interpolate(order=3) #Interpolating the dataframe to fill in the Null Values\n",
        "    raw_seq = np.array(df['Close']) #Selecting the column in focus\n",
        "    # choose a number of time steps\n",
        "    n_steps = 3\n",
        "    # split into samples\n",
        "    X, y = split_sequence(raw_seq, n_steps)\n",
        "    # reshape the data\n",
        "    n_features = 1\n",
        "    X = X.reshape((X.shape[0], X.shape[1], n_features))\n",
        "    '''Bidirectional LSTM is used to fit in the data with 50 subunits\n",
        "    and activation function as ReLU(Rectified Linear Unit).'''\n",
        "    model = Sequential()\n",
        "    model.add(Bidirectional(LSTM(50, activation='relu'), input_shape=(n_steps, n_features)))\n",
        "    model.add(Dense(1))\n",
        "    model.compile(optimizer='adam', loss='mse')\n",
        "    # fit model\n",
        "    model.fit(X, y, epochs=200, verbose=0)\n",
        "    # demonstrate prediction\n",
        "    avd = np.array(df['Close']) # Avd will contain the 2 predicted value with the original data\n",
        "    for i in range(2):\n",
        "      x_input = avd[47+i:50+i]\n",
        "      x_input = x_input.reshape((1, n_steps, n_features))\n",
        "      yhat = model.predict(x_input, verbose=0)\n",
        "      avd = np.append(avd,yhat) # Adding the new predicted value to the array\n",
        "      print(avd[len(avd)-1])\n",
        "    print('R2_score = ',r2_score([7232.200195,7277.899902],[avd[50],avd[51]]))\n",
        "    return [avd[50],avd[51]]\n",
        "\n",
        "\n",
        "if __name__== \"__main__\":\n",
        "    evaluate()"
      ],
      "metadata": {
        "colab": {
          "base_uri": "https://localhost:8080/"
        },
        "id": "Umh_MJfeyKdJ",
        "outputId": "4c5ed7d9-8430-48f1-eb19-b9484d57b907"
      },
      "execution_count": 135,
      "outputs": [
        {
          "output_type": "stream",
          "name": "stdout",
          "text": [
            "7232.47705078125\n",
            "7269.89794921875\n",
            "R2_score =  0.9386075877932172\n",
            "Mean Square Error: 32.053949\n",
            "Directional Accuracy: 100.0\n"
          ]
        }
      ]
    },
    {
      "cell_type": "code",
      "source": [],
      "metadata": {
        "id": "iXhr-iCASptk"
      },
      "execution_count": null,
      "outputs": []
    }
  ]
}